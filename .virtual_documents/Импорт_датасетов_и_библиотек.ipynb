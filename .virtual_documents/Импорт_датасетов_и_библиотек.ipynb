#импорт библиотек
import pandas as pd
from pandas.api.types import is_string_dtype
from pandas.api.types import is_numeric_dtype


#Импорт тренироваочного и тестового датасета
train = pd.read_csv('train.csv')
test = pd.read_csv('test.csv')
