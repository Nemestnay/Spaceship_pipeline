transported = train[train['Transported'] == 1]
not_transported = train[train['Transported'] == 0]

print ("Transported: %i (%.1f%%)"%(len(transported), (len(transported))/len(train)*100.0))
print ("Not Transported: %i (%.1f%%)"%(len(not_transported), (len(not_transported))/len(train)*100.0))
print ("Total: %i"%len(train))


train.VIP.value_counts()


train[['VIP', 'Transported']].groupby('VIP', as_index = False).mean()
#VIP статус не сильно влияет на транспорт пассажира


train[train['Transported'] == 1]['Age'].hist()
train[train['Transported'] == 0]['Age'].hist()
#гистограммы распределения возраста у транспортированных и нетраснпортированных пассажиров схожи


for i in train:
    if is_numeric_dtype(train[i]):
        print(i, '           ', train['Transported'].corr(train[i]))
#корреляция практически везде отрицательная -> Transported слабо зависит от этих столбцов


train[train['Transported'] == 1]['FoodCourt'].hist()
train[train['Transported'] == 0]['FoodCourt'].hist()
#на графике можно провести условную вертикальную линию отсекающую пассажиров с значением FoodCourt больще какого-то
#порогого значения, и в этих случаях с большой вероятность можно сказать о значении Transported = 1


for i in train:
    if not is_numeric_dtype(train[i]):
        print(i)


train[['HomePlanet', 'Transported']].groupby('HomePlanet', as_index = False).mean()


train[['CryoSleep', 'Transported']].groupby('CryoSleep', as_index = False).mean()


train[['Destination', 'Transported']].groupby('Destination', as_index = False).mean()


#Выводы:

#корреляция Transported максимальная с параметрами FoodCourt и CryoSleep
#остальных случаях зависимостей не обнаружено
