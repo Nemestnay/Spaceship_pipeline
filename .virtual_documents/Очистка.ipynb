#импорт библиотек
import pandas as pd
from pandas.api.types import is_string_dtype
from pandas.api.types import is_numeric_dtype


#Импорт тренироваочного и тестового датасета
train = pd.read_csv('train.csv')
test = pd.read_csv('test.csv')


train.head(10) 


test.head(10) 


train.shape


test.shape


train.describe()


test.describe()
#все числовые параметры визуально нормальные
#все могут иметь минимальное значение 0
#описательные статистики датасетов сопоставимы


train.describe(include=['O'])
# id все уникальны


train.drop(['PassengerId'], axis=1, inplace = True)
train.drop(['Name'], axis=1, inplace = True)


test.describe(include=['O'])


test.drop(['PassengerId'], axis=1, inplace=True)
test.drop(['Name'], axis=1, inplace=True)


train.info()


train.isnull().sum()
#для многих параметров есть отсутствующие ячейки


test.info()


test.isnull().sum()
#для многих параметров есть отсутствующие ячейки


#удаление строк с пустыми ячейками
train = train.dropna() 
test = test.dropna() 


train.shape


test.shape


#Выводы:
#из исходного датасета были удалены строки с пустыми ячейками и столбцы "PassengerId" и "Name", 
#так как данные в них практически или полностью уникальны







