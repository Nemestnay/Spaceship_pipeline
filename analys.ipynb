{
 "cells": [
  {
   "cell_type": "code",
   "execution_count": 1,
   "id": "6ef9dd95-2784-44f1-a1eb-b95f53233cd3",
   "metadata": {
    "execution": {
     "iopub.execute_input": "2023-12-17T20:42:45.577058Z",
     "iopub.status.busy": "2023-12-17T20:42:45.576550Z",
     "iopub.status.idle": "2023-12-17T20:42:45.940087Z",
     "shell.execute_reply": "2023-12-17T20:42:45.939284Z"
    },
    "papermill": {
     "duration": 0.370414,
     "end_time": "2023-12-17T20:42:45.941655",
     "exception": false,
     "start_time": "2023-12-17T20:42:45.571241",
     "status": "completed"
    },
    "tags": []
   },
   "outputs": [],
   "source": [
    "import pandas as pd"
   ]
  },
  {
   "cell_type": "code",
   "execution_count": 2,
   "id": "dc6a8ddd-309e-4937-805c-d9207f65ae83",
   "metadata": {
    "execution": {
     "iopub.execute_input": "2023-12-17T20:42:45.945552Z",
     "iopub.status.busy": "2023-12-17T20:42:45.945282Z",
     "iopub.status.idle": "2023-12-17T20:42:45.950224Z",
     "shell.execute_reply": "2023-12-17T20:42:45.949717Z"
    },
    "papermill": {
     "duration": 0.008317,
     "end_time": "2023-12-17T20:42:45.951448",
     "exception": false,
     "start_time": "2023-12-17T20:42:45.943131",
     "status": "completed"
    },
    "tags": []
   },
   "outputs": [],
   "source": [
    "models = pd.read_csv('models.csv')"
   ]
  },
  {
   "cell_type": "code",
   "execution_count": 3,
   "id": "c3972b1a-2d96-4b55-9218-e9d1e9874a32",
   "metadata": {
    "execution": {
     "iopub.execute_input": "2023-12-17T20:42:45.954881Z",
     "iopub.status.busy": "2023-12-17T20:42:45.954641Z",
     "iopub.status.idle": "2023-12-17T20:42:45.964548Z",
     "shell.execute_reply": "2023-12-17T20:42:45.964034Z"
    },
    "papermill": {
     "duration": 0.013318,
     "end_time": "2023-12-17T20:42:45.965990",
     "exception": false,
     "start_time": "2023-12-17T20:42:45.952672",
     "status": "completed"
    },
    "tags": []
   },
   "outputs": [
    {
     "data": {
      "text/html": [
       "<div>\n",
       "<style scoped>\n",
       "    .dataframe tbody tr th:only-of-type {\n",
       "        vertical-align: middle;\n",
       "    }\n",
       "\n",
       "    .dataframe tbody tr th {\n",
       "        vertical-align: top;\n",
       "    }\n",
       "\n",
       "    .dataframe thead th {\n",
       "        text-align: right;\n",
       "    }\n",
       "</style>\n",
       "<table border=\"1\" class=\"dataframe\">\n",
       "  <thead>\n",
       "    <tr style=\"text-align: right;\">\n",
       "      <th></th>\n",
       "      <th>0</th>\n",
       "      <th>1</th>\n",
       "      <th>2</th>\n",
       "    </tr>\n",
       "  </thead>\n",
       "  <tbody>\n",
       "    <tr>\n",
       "      <th>0</th>\n",
       "      <td>model</td>\n",
       "      <td>train</td>\n",
       "      <td>test</td>\n",
       "    </tr>\n",
       "    <tr>\n",
       "      <th>1</th>\n",
       "      <td>Logistic Regression</td>\n",
       "      <td>78.28</td>\n",
       "      <td>39.35</td>\n",
       "    </tr>\n",
       "    <tr>\n",
       "      <th>2</th>\n",
       "      <td>KNN</td>\n",
       "      <td>81.34</td>\n",
       "      <td>37.26</td>\n",
       "    </tr>\n",
       "    <tr>\n",
       "      <th>3</th>\n",
       "      <td>Support Vector Machines</td>\n",
       "      <td>53.58</td>\n",
       "      <td>55.29</td>\n",
       "    </tr>\n",
       "    <tr>\n",
       "      <th>4</th>\n",
       "      <td>Decision Tree</td>\n",
       "      <td>100.0</td>\n",
       "      <td>47.15</td>\n",
       "    </tr>\n",
       "  </tbody>\n",
       "</table>\n",
       "</div>"
      ],
      "text/plain": [
       "                         0      1      2\n",
       "0                    model  train   test\n",
       "1      Logistic Regression  78.28  39.35\n",
       "2                      KNN  81.34  37.26\n",
       "3  Support Vector Machines  53.58  55.29\n",
       "4            Decision Tree  100.0  47.15"
      ]
     },
     "execution_count": 3,
     "metadata": {},
     "output_type": "execute_result"
    }
   ],
   "source": [
    "models"
   ]
  },
  {
   "cell_type": "code",
   "execution_count": 4,
   "id": "1f5eef4a-e629-44a1-994c-880866d945c8",
   "metadata": {
    "execution": {
     "iopub.execute_input": "2023-12-17T20:42:45.969914Z",
     "iopub.status.busy": "2023-12-17T20:42:45.969529Z",
     "iopub.status.idle": "2023-12-17T20:42:45.973976Z",
     "shell.execute_reply": "2023-12-17T20:42:45.973317Z"
    },
    "papermill": {
     "duration": 0.007874,
     "end_time": "2023-12-17T20:42:45.975298",
     "exception": false,
     "start_time": "2023-12-17T20:42:45.967424",
     "status": "completed"
    },
    "tags": []
   },
   "outputs": [
    {
     "name": "stdout",
     "output_type": "stream",
     "text": [
      "наилучшая модель: Decision Tree\n"
     ]
    }
   ],
   "source": [
    "print('наилучшая модель: Decision Tree')"
   ]
  },
  {
   "cell_type": "code",
   "execution_count": null,
   "id": "80f378e0-2929-4ae1-bd7c-6ef352964114",
   "metadata": {
    "papermill": {
     "duration": 0.001241,
     "end_time": "2023-12-17T20:42:45.977951",
     "exception": false,
     "start_time": "2023-12-17T20:42:45.976710",
     "status": "completed"
    },
    "tags": []
   },
   "outputs": [],
   "source": []
  }
 ],
 "metadata": {
  "kernelspec": {
   "display_name": "Python 3 (ipykernel)",
   "language": "python",
   "name": "python3"
  },
  "language_info": {
   "codemirror_mode": {
    "name": "ipython",
    "version": 3
   },
   "file_extension": ".py",
   "mimetype": "text/x-python",
   "name": "python",
   "nbconvert_exporter": "python",
   "pygments_lexer": "ipython3",
   "version": "3.9.12"
  },
  "papermill": {
   "default_parameters": {},
   "duration": 1.46779,
   "end_time": "2023-12-17T20:42:46.197184",
   "environment_variables": {},
   "exception": null,
   "input_path": "/home/alena/Рабочий стол/Уник/наука о данных/задание 2/analys.ipynb",
   "output_path": "/home/alena/Рабочий стол/Уник/наука о данных/задание 2/analys.ipynb",
   "parameters": {},
   "start_time": "2023-12-17T20:42:44.729394",
   "version": "2.5.0"
  }
 },
 "nbformat": 4,
 "nbformat_minor": 5
}