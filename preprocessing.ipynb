{
 "cells": [
  {
   "cell_type": "code",
   "execution_count": 1,
   "id": "8ddffb0e-967a-4c3f-8226-17eaec060730",
   "metadata": {
    "execution": {
     "iopub.execute_input": "2023-12-17T20:42:17.539684Z",
     "iopub.status.busy": "2023-12-17T20:42:17.539034Z",
     "iopub.status.idle": "2023-12-17T20:42:17.891026Z",
     "shell.execute_reply": "2023-12-17T20:42:17.890386Z"
    },
    "papermill": {
     "duration": 0.364811,
     "end_time": "2023-12-17T20:42:17.892804",
     "exception": false,
     "start_time": "2023-12-17T20:42:17.527993",
     "status": "completed"
    },
    "tags": []
   },
   "outputs": [],
   "source": [
    "import pandas as pd\n",
    "import numpy as np"
   ]
  },
  {
   "cell_type": "code",
   "execution_count": 2,
   "id": "08ed7dff-07b2-473c-a868-bfba53350a35",
   "metadata": {
    "execution": {
     "iopub.execute_input": "2023-12-17T20:42:17.902518Z",
     "iopub.status.busy": "2023-12-17T20:42:17.901791Z",
     "iopub.status.idle": "2023-12-17T20:42:17.946659Z",
     "shell.execute_reply": "2023-12-17T20:42:17.945976Z"
    },
    "papermill": {
     "duration": 0.051469,
     "end_time": "2023-12-17T20:42:17.948323",
     "exception": false,
     "start_time": "2023-12-17T20:42:17.896854",
     "status": "completed"
    },
    "tags": []
   },
   "outputs": [],
   "source": [
    "#Импорт тренироваочного и тестового датасета\n",
    "train = pd.read_csv('train.csv')\n",
    "test = pd.read_csv('test.csv')\n",
    "sample_submission = pd.read_csv('sample_submission.csv')"
   ]
  },
  {
   "cell_type": "code",
   "execution_count": 3,
   "id": "b595f7fd-a248-4376-857b-a2e7e264d4ed",
   "metadata": {
    "execution": {
     "iopub.execute_input": "2023-12-17T20:42:17.957405Z",
     "iopub.status.busy": "2023-12-17T20:42:17.957045Z",
     "iopub.status.idle": "2023-12-17T20:42:17.961552Z",
     "shell.execute_reply": "2023-12-17T20:42:17.960975Z"
    },
    "papermill": {
     "duration": 0.011314,
     "end_time": "2023-12-17T20:42:17.963363",
     "exception": false,
     "start_time": "2023-12-17T20:42:17.952049",
     "status": "completed"
    },
    "tags": []
   },
   "outputs": [],
   "source": [
    "test[\"Transported\"] = sample_submission['Transported']"
   ]
  },
  {
   "cell_type": "code",
   "execution_count": 4,
   "id": "02d9b8b3-f10c-41dc-a4c1-51811675d646",
   "metadata": {
    "execution": {
     "iopub.execute_input": "2023-12-17T20:42:17.972744Z",
     "iopub.status.busy": "2023-12-17T20:42:17.972314Z",
     "iopub.status.idle": "2023-12-17T20:42:17.998308Z",
     "shell.execute_reply": "2023-12-17T20:42:17.997654Z"
    },
    "papermill": {
     "duration": 0.032452,
     "end_time": "2023-12-17T20:42:17.999614",
     "exception": false,
     "start_time": "2023-12-17T20:42:17.967162",
     "status": "completed"
    },
    "tags": []
   },
   "outputs": [
    {
     "data": {
      "text/html": [
       "<div>\n",
       "<style scoped>\n",
       "    .dataframe tbody tr th:only-of-type {\n",
       "        vertical-align: middle;\n",
       "    }\n",
       "\n",
       "    .dataframe tbody tr th {\n",
       "        vertical-align: top;\n",
       "    }\n",
       "\n",
       "    .dataframe thead th {\n",
       "        text-align: right;\n",
       "    }\n",
       "</style>\n",
       "<table border=\"1\" class=\"dataframe\">\n",
       "  <thead>\n",
       "    <tr style=\"text-align: right;\">\n",
       "      <th></th>\n",
       "      <th>PassengerId</th>\n",
       "      <th>HomePlanet</th>\n",
       "      <th>CryoSleep</th>\n",
       "      <th>Cabin</th>\n",
       "      <th>Destination</th>\n",
       "      <th>Age</th>\n",
       "      <th>VIP</th>\n",
       "      <th>RoomService</th>\n",
       "      <th>FoodCourt</th>\n",
       "      <th>ShoppingMall</th>\n",
       "      <th>Spa</th>\n",
       "      <th>VRDeck</th>\n",
       "      <th>Name</th>\n",
       "      <th>Transported</th>\n",
       "    </tr>\n",
       "  </thead>\n",
       "  <tbody>\n",
       "    <tr>\n",
       "      <th>0</th>\n",
       "      <td>0001_01</td>\n",
       "      <td>Europa</td>\n",
       "      <td>False</td>\n",
       "      <td>B/0/P</td>\n",
       "      <td>TRAPPIST-1e</td>\n",
       "      <td>39.0</td>\n",
       "      <td>False</td>\n",
       "      <td>0.0</td>\n",
       "      <td>0.0</td>\n",
       "      <td>0.0</td>\n",
       "      <td>0.0</td>\n",
       "      <td>0.0</td>\n",
       "      <td>Maham Ofracculy</td>\n",
       "      <td>False</td>\n",
       "    </tr>\n",
       "    <tr>\n",
       "      <th>1</th>\n",
       "      <td>0002_01</td>\n",
       "      <td>Earth</td>\n",
       "      <td>False</td>\n",
       "      <td>F/0/S</td>\n",
       "      <td>TRAPPIST-1e</td>\n",
       "      <td>24.0</td>\n",
       "      <td>False</td>\n",
       "      <td>109.0</td>\n",
       "      <td>9.0</td>\n",
       "      <td>25.0</td>\n",
       "      <td>549.0</td>\n",
       "      <td>44.0</td>\n",
       "      <td>Juanna Vines</td>\n",
       "      <td>True</td>\n",
       "    </tr>\n",
       "    <tr>\n",
       "      <th>2</th>\n",
       "      <td>0003_01</td>\n",
       "      <td>Europa</td>\n",
       "      <td>False</td>\n",
       "      <td>A/0/S</td>\n",
       "      <td>TRAPPIST-1e</td>\n",
       "      <td>58.0</td>\n",
       "      <td>True</td>\n",
       "      <td>43.0</td>\n",
       "      <td>3576.0</td>\n",
       "      <td>0.0</td>\n",
       "      <td>6715.0</td>\n",
       "      <td>49.0</td>\n",
       "      <td>Altark Susent</td>\n",
       "      <td>False</td>\n",
       "    </tr>\n",
       "    <tr>\n",
       "      <th>3</th>\n",
       "      <td>0003_02</td>\n",
       "      <td>Europa</td>\n",
       "      <td>False</td>\n",
       "      <td>A/0/S</td>\n",
       "      <td>TRAPPIST-1e</td>\n",
       "      <td>33.0</td>\n",
       "      <td>False</td>\n",
       "      <td>0.0</td>\n",
       "      <td>1283.0</td>\n",
       "      <td>371.0</td>\n",
       "      <td>3329.0</td>\n",
       "      <td>193.0</td>\n",
       "      <td>Solam Susent</td>\n",
       "      <td>False</td>\n",
       "    </tr>\n",
       "    <tr>\n",
       "      <th>4</th>\n",
       "      <td>0004_01</td>\n",
       "      <td>Earth</td>\n",
       "      <td>False</td>\n",
       "      <td>F/1/S</td>\n",
       "      <td>TRAPPIST-1e</td>\n",
       "      <td>16.0</td>\n",
       "      <td>False</td>\n",
       "      <td>303.0</td>\n",
       "      <td>70.0</td>\n",
       "      <td>151.0</td>\n",
       "      <td>565.0</td>\n",
       "      <td>2.0</td>\n",
       "      <td>Willy Santantines</td>\n",
       "      <td>True</td>\n",
       "    </tr>\n",
       "    <tr>\n",
       "      <th>5</th>\n",
       "      <td>0005_01</td>\n",
       "      <td>Earth</td>\n",
       "      <td>False</td>\n",
       "      <td>F/0/P</td>\n",
       "      <td>PSO J318.5-22</td>\n",
       "      <td>44.0</td>\n",
       "      <td>False</td>\n",
       "      <td>0.0</td>\n",
       "      <td>483.0</td>\n",
       "      <td>0.0</td>\n",
       "      <td>291.0</td>\n",
       "      <td>0.0</td>\n",
       "      <td>Sandie Hinetthews</td>\n",
       "      <td>True</td>\n",
       "    </tr>\n",
       "    <tr>\n",
       "      <th>6</th>\n",
       "      <td>0006_01</td>\n",
       "      <td>Earth</td>\n",
       "      <td>False</td>\n",
       "      <td>F/2/S</td>\n",
       "      <td>TRAPPIST-1e</td>\n",
       "      <td>26.0</td>\n",
       "      <td>False</td>\n",
       "      <td>42.0</td>\n",
       "      <td>1539.0</td>\n",
       "      <td>3.0</td>\n",
       "      <td>0.0</td>\n",
       "      <td>0.0</td>\n",
       "      <td>Billex Jacostaffey</td>\n",
       "      <td>True</td>\n",
       "    </tr>\n",
       "    <tr>\n",
       "      <th>7</th>\n",
       "      <td>0006_02</td>\n",
       "      <td>Earth</td>\n",
       "      <td>True</td>\n",
       "      <td>G/0/S</td>\n",
       "      <td>TRAPPIST-1e</td>\n",
       "      <td>28.0</td>\n",
       "      <td>False</td>\n",
       "      <td>0.0</td>\n",
       "      <td>0.0</td>\n",
       "      <td>0.0</td>\n",
       "      <td>0.0</td>\n",
       "      <td>NaN</td>\n",
       "      <td>Candra Jacostaffey</td>\n",
       "      <td>True</td>\n",
       "    </tr>\n",
       "    <tr>\n",
       "      <th>8</th>\n",
       "      <td>0007_01</td>\n",
       "      <td>Earth</td>\n",
       "      <td>False</td>\n",
       "      <td>F/3/S</td>\n",
       "      <td>TRAPPIST-1e</td>\n",
       "      <td>35.0</td>\n",
       "      <td>False</td>\n",
       "      <td>0.0</td>\n",
       "      <td>785.0</td>\n",
       "      <td>17.0</td>\n",
       "      <td>216.0</td>\n",
       "      <td>0.0</td>\n",
       "      <td>Andona Beston</td>\n",
       "      <td>True</td>\n",
       "    </tr>\n",
       "    <tr>\n",
       "      <th>9</th>\n",
       "      <td>0008_01</td>\n",
       "      <td>Europa</td>\n",
       "      <td>True</td>\n",
       "      <td>B/1/P</td>\n",
       "      <td>55 Cancri e</td>\n",
       "      <td>14.0</td>\n",
       "      <td>False</td>\n",
       "      <td>0.0</td>\n",
       "      <td>0.0</td>\n",
       "      <td>0.0</td>\n",
       "      <td>0.0</td>\n",
       "      <td>0.0</td>\n",
       "      <td>Erraiam Flatic</td>\n",
       "      <td>True</td>\n",
       "    </tr>\n",
       "  </tbody>\n",
       "</table>\n",
       "</div>"
      ],
      "text/plain": [
       "  PassengerId HomePlanet CryoSleep  Cabin    Destination   Age    VIP  \\\n",
       "0     0001_01     Europa     False  B/0/P    TRAPPIST-1e  39.0  False   \n",
       "1     0002_01      Earth     False  F/0/S    TRAPPIST-1e  24.0  False   \n",
       "2     0003_01     Europa     False  A/0/S    TRAPPIST-1e  58.0   True   \n",
       "3     0003_02     Europa     False  A/0/S    TRAPPIST-1e  33.0  False   \n",
       "4     0004_01      Earth     False  F/1/S    TRAPPIST-1e  16.0  False   \n",
       "5     0005_01      Earth     False  F/0/P  PSO J318.5-22  44.0  False   \n",
       "6     0006_01      Earth     False  F/2/S    TRAPPIST-1e  26.0  False   \n",
       "7     0006_02      Earth      True  G/0/S    TRAPPIST-1e  28.0  False   \n",
       "8     0007_01      Earth     False  F/3/S    TRAPPIST-1e  35.0  False   \n",
       "9     0008_01     Europa      True  B/1/P    55 Cancri e  14.0  False   \n",
       "\n",
       "   RoomService  FoodCourt  ShoppingMall     Spa  VRDeck                Name  \\\n",
       "0          0.0        0.0           0.0     0.0     0.0     Maham Ofracculy   \n",
       "1        109.0        9.0          25.0   549.0    44.0        Juanna Vines   \n",
       "2         43.0     3576.0           0.0  6715.0    49.0       Altark Susent   \n",
       "3          0.0     1283.0         371.0  3329.0   193.0        Solam Susent   \n",
       "4        303.0       70.0         151.0   565.0     2.0   Willy Santantines   \n",
       "5          0.0      483.0           0.0   291.0     0.0   Sandie Hinetthews   \n",
       "6         42.0     1539.0           3.0     0.0     0.0  Billex Jacostaffey   \n",
       "7          0.0        0.0           0.0     0.0     NaN  Candra Jacostaffey   \n",
       "8          0.0      785.0          17.0   216.0     0.0       Andona Beston   \n",
       "9          0.0        0.0           0.0     0.0     0.0      Erraiam Flatic   \n",
       "\n",
       "   Transported  \n",
       "0        False  \n",
       "1         True  \n",
       "2        False  \n",
       "3        False  \n",
       "4         True  \n",
       "5         True  \n",
       "6         True  \n",
       "7         True  \n",
       "8         True  \n",
       "9         True  "
      ]
     },
     "execution_count": 4,
     "metadata": {},
     "output_type": "execute_result"
    }
   ],
   "source": [
    "train.head(10) "
   ]
  },
  {
   "cell_type": "code",
   "execution_count": 5,
   "id": "1b24c417-2379-485a-a1a4-318d721ddd28",
   "metadata": {
    "execution": {
     "iopub.execute_input": "2023-12-17T20:42:18.009340Z",
     "iopub.status.busy": "2023-12-17T20:42:18.009017Z",
     "iopub.status.idle": "2023-12-17T20:42:18.028152Z",
     "shell.execute_reply": "2023-12-17T20:42:18.027222Z"
    },
    "papermill": {
     "duration": 0.026903,
     "end_time": "2023-12-17T20:42:18.030845",
     "exception": false,
     "start_time": "2023-12-17T20:42:18.003942",
     "status": "completed"
    },
    "tags": []
   },
   "outputs": [
    {
     "data": {
      "text/html": [
       "<div>\n",
       "<style scoped>\n",
       "    .dataframe tbody tr th:only-of-type {\n",
       "        vertical-align: middle;\n",
       "    }\n",
       "\n",
       "    .dataframe tbody tr th {\n",
       "        vertical-align: top;\n",
       "    }\n",
       "\n",
       "    .dataframe thead th {\n",
       "        text-align: right;\n",
       "    }\n",
       "</style>\n",
       "<table border=\"1\" class=\"dataframe\">\n",
       "  <thead>\n",
       "    <tr style=\"text-align: right;\">\n",
       "      <th></th>\n",
       "      <th>PassengerId</th>\n",
       "      <th>HomePlanet</th>\n",
       "      <th>CryoSleep</th>\n",
       "      <th>Cabin</th>\n",
       "      <th>Destination</th>\n",
       "      <th>Age</th>\n",
       "      <th>VIP</th>\n",
       "      <th>RoomService</th>\n",
       "      <th>FoodCourt</th>\n",
       "      <th>ShoppingMall</th>\n",
       "      <th>Spa</th>\n",
       "      <th>VRDeck</th>\n",
       "      <th>Name</th>\n",
       "      <th>Transported</th>\n",
       "    </tr>\n",
       "  </thead>\n",
       "  <tbody>\n",
       "    <tr>\n",
       "      <th>0</th>\n",
       "      <td>0013_01</td>\n",
       "      <td>Earth</td>\n",
       "      <td>True</td>\n",
       "      <td>G/3/S</td>\n",
       "      <td>TRAPPIST-1e</td>\n",
       "      <td>27.0</td>\n",
       "      <td>False</td>\n",
       "      <td>0.0</td>\n",
       "      <td>0.0</td>\n",
       "      <td>0.0</td>\n",
       "      <td>0.0</td>\n",
       "      <td>0.0</td>\n",
       "      <td>Nelly Carsoning</td>\n",
       "      <td>False</td>\n",
       "    </tr>\n",
       "    <tr>\n",
       "      <th>1</th>\n",
       "      <td>0018_01</td>\n",
       "      <td>Earth</td>\n",
       "      <td>False</td>\n",
       "      <td>F/4/S</td>\n",
       "      <td>TRAPPIST-1e</td>\n",
       "      <td>19.0</td>\n",
       "      <td>False</td>\n",
       "      <td>0.0</td>\n",
       "      <td>9.0</td>\n",
       "      <td>0.0</td>\n",
       "      <td>2823.0</td>\n",
       "      <td>0.0</td>\n",
       "      <td>Lerome Peckers</td>\n",
       "      <td>False</td>\n",
       "    </tr>\n",
       "    <tr>\n",
       "      <th>2</th>\n",
       "      <td>0019_01</td>\n",
       "      <td>Europa</td>\n",
       "      <td>True</td>\n",
       "      <td>C/0/S</td>\n",
       "      <td>55 Cancri e</td>\n",
       "      <td>31.0</td>\n",
       "      <td>False</td>\n",
       "      <td>0.0</td>\n",
       "      <td>0.0</td>\n",
       "      <td>0.0</td>\n",
       "      <td>0.0</td>\n",
       "      <td>0.0</td>\n",
       "      <td>Sabih Unhearfus</td>\n",
       "      <td>False</td>\n",
       "    </tr>\n",
       "    <tr>\n",
       "      <th>3</th>\n",
       "      <td>0021_01</td>\n",
       "      <td>Europa</td>\n",
       "      <td>False</td>\n",
       "      <td>C/1/S</td>\n",
       "      <td>TRAPPIST-1e</td>\n",
       "      <td>38.0</td>\n",
       "      <td>False</td>\n",
       "      <td>0.0</td>\n",
       "      <td>6652.0</td>\n",
       "      <td>0.0</td>\n",
       "      <td>181.0</td>\n",
       "      <td>585.0</td>\n",
       "      <td>Meratz Caltilter</td>\n",
       "      <td>False</td>\n",
       "    </tr>\n",
       "    <tr>\n",
       "      <th>4</th>\n",
       "      <td>0023_01</td>\n",
       "      <td>Earth</td>\n",
       "      <td>False</td>\n",
       "      <td>F/5/S</td>\n",
       "      <td>TRAPPIST-1e</td>\n",
       "      <td>20.0</td>\n",
       "      <td>False</td>\n",
       "      <td>10.0</td>\n",
       "      <td>0.0</td>\n",
       "      <td>635.0</td>\n",
       "      <td>0.0</td>\n",
       "      <td>0.0</td>\n",
       "      <td>Brence Harperez</td>\n",
       "      <td>False</td>\n",
       "    </tr>\n",
       "    <tr>\n",
       "      <th>5</th>\n",
       "      <td>0027_01</td>\n",
       "      <td>Earth</td>\n",
       "      <td>False</td>\n",
       "      <td>F/7/P</td>\n",
       "      <td>TRAPPIST-1e</td>\n",
       "      <td>31.0</td>\n",
       "      <td>False</td>\n",
       "      <td>0.0</td>\n",
       "      <td>1615.0</td>\n",
       "      <td>263.0</td>\n",
       "      <td>113.0</td>\n",
       "      <td>60.0</td>\n",
       "      <td>Karlen Ricks</td>\n",
       "      <td>False</td>\n",
       "    </tr>\n",
       "    <tr>\n",
       "      <th>6</th>\n",
       "      <td>0029_01</td>\n",
       "      <td>Europa</td>\n",
       "      <td>True</td>\n",
       "      <td>B/2/P</td>\n",
       "      <td>55 Cancri e</td>\n",
       "      <td>21.0</td>\n",
       "      <td>False</td>\n",
       "      <td>0.0</td>\n",
       "      <td>NaN</td>\n",
       "      <td>0.0</td>\n",
       "      <td>0.0</td>\n",
       "      <td>0.0</td>\n",
       "      <td>Aldah Ainserfle</td>\n",
       "      <td>False</td>\n",
       "    </tr>\n",
       "    <tr>\n",
       "      <th>7</th>\n",
       "      <td>0032_01</td>\n",
       "      <td>Europa</td>\n",
       "      <td>True</td>\n",
       "      <td>D/0/S</td>\n",
       "      <td>TRAPPIST-1e</td>\n",
       "      <td>20.0</td>\n",
       "      <td>False</td>\n",
       "      <td>0.0</td>\n",
       "      <td>0.0</td>\n",
       "      <td>0.0</td>\n",
       "      <td>0.0</td>\n",
       "      <td>0.0</td>\n",
       "      <td>Acrabi Pringry</td>\n",
       "      <td>False</td>\n",
       "    </tr>\n",
       "    <tr>\n",
       "      <th>8</th>\n",
       "      <td>0032_02</td>\n",
       "      <td>Europa</td>\n",
       "      <td>True</td>\n",
       "      <td>D/0/S</td>\n",
       "      <td>55 Cancri e</td>\n",
       "      <td>23.0</td>\n",
       "      <td>False</td>\n",
       "      <td>0.0</td>\n",
       "      <td>0.0</td>\n",
       "      <td>0.0</td>\n",
       "      <td>0.0</td>\n",
       "      <td>0.0</td>\n",
       "      <td>Dhena Pringry</td>\n",
       "      <td>False</td>\n",
       "    </tr>\n",
       "    <tr>\n",
       "      <th>9</th>\n",
       "      <td>0033_01</td>\n",
       "      <td>Earth</td>\n",
       "      <td>False</td>\n",
       "      <td>F/7/S</td>\n",
       "      <td>55 Cancri e</td>\n",
       "      <td>24.0</td>\n",
       "      <td>False</td>\n",
       "      <td>0.0</td>\n",
       "      <td>639.0</td>\n",
       "      <td>0.0</td>\n",
       "      <td>0.0</td>\n",
       "      <td>0.0</td>\n",
       "      <td>Eliana Delazarson</td>\n",
       "      <td>False</td>\n",
       "    </tr>\n",
       "  </tbody>\n",
       "</table>\n",
       "</div>"
      ],
      "text/plain": [
       "  PassengerId HomePlanet CryoSleep  Cabin  Destination   Age    VIP  \\\n",
       "0     0013_01      Earth      True  G/3/S  TRAPPIST-1e  27.0  False   \n",
       "1     0018_01      Earth     False  F/4/S  TRAPPIST-1e  19.0  False   \n",
       "2     0019_01     Europa      True  C/0/S  55 Cancri e  31.0  False   \n",
       "3     0021_01     Europa     False  C/1/S  TRAPPIST-1e  38.0  False   \n",
       "4     0023_01      Earth     False  F/5/S  TRAPPIST-1e  20.0  False   \n",
       "5     0027_01      Earth     False  F/7/P  TRAPPIST-1e  31.0  False   \n",
       "6     0029_01     Europa      True  B/2/P  55 Cancri e  21.0  False   \n",
       "7     0032_01     Europa      True  D/0/S  TRAPPIST-1e  20.0  False   \n",
       "8     0032_02     Europa      True  D/0/S  55 Cancri e  23.0  False   \n",
       "9     0033_01      Earth     False  F/7/S  55 Cancri e  24.0  False   \n",
       "\n",
       "   RoomService  FoodCourt  ShoppingMall     Spa  VRDeck               Name  \\\n",
       "0          0.0        0.0           0.0     0.0     0.0    Nelly Carsoning   \n",
       "1          0.0        9.0           0.0  2823.0     0.0     Lerome Peckers   \n",
       "2          0.0        0.0           0.0     0.0     0.0    Sabih Unhearfus   \n",
       "3          0.0     6652.0           0.0   181.0   585.0   Meratz Caltilter   \n",
       "4         10.0        0.0         635.0     0.0     0.0    Brence Harperez   \n",
       "5          0.0     1615.0         263.0   113.0    60.0       Karlen Ricks   \n",
       "6          0.0        NaN           0.0     0.0     0.0    Aldah Ainserfle   \n",
       "7          0.0        0.0           0.0     0.0     0.0     Acrabi Pringry   \n",
       "8          0.0        0.0           0.0     0.0     0.0      Dhena Pringry   \n",
       "9          0.0      639.0           0.0     0.0     0.0  Eliana Delazarson   \n",
       "\n",
       "   Transported  \n",
       "0        False  \n",
       "1        False  \n",
       "2        False  \n",
       "3        False  \n",
       "4        False  \n",
       "5        False  \n",
       "6        False  \n",
       "7        False  \n",
       "8        False  \n",
       "9        False  "
      ]
     },
     "execution_count": 5,
     "metadata": {},
     "output_type": "execute_result"
    }
   ],
   "source": [
    "test.head(10) "
   ]
  },
  {
   "cell_type": "code",
   "execution_count": 6,
   "id": "ff693018-c702-45f6-bbd4-a592380f081b",
   "metadata": {
    "execution": {
     "iopub.execute_input": "2023-12-17T20:42:18.042827Z",
     "iopub.status.busy": "2023-12-17T20:42:18.042505Z",
     "iopub.status.idle": "2023-12-17T20:42:18.046874Z",
     "shell.execute_reply": "2023-12-17T20:42:18.046365Z"
    },
    "papermill": {
     "duration": 0.011544,
     "end_time": "2023-12-17T20:42:18.048088",
     "exception": false,
     "start_time": "2023-12-17T20:42:18.036544",
     "status": "completed"
    },
    "tags": []
   },
   "outputs": [
    {
     "data": {
      "text/plain": [
       "(8693, 14)"
      ]
     },
     "execution_count": 6,
     "metadata": {},
     "output_type": "execute_result"
    }
   ],
   "source": [
    "train.shape"
   ]
  },
  {
   "cell_type": "code",
   "execution_count": 7,
   "id": "9b1ecd52-6176-4e09-a537-e61c1f90e853",
   "metadata": {
    "execution": {
     "iopub.execute_input": "2023-12-17T20:42:18.057638Z",
     "iopub.status.busy": "2023-12-17T20:42:18.057375Z",
     "iopub.status.idle": "2023-12-17T20:42:18.061717Z",
     "shell.execute_reply": "2023-12-17T20:42:18.061145Z"
    },
    "papermill": {
     "duration": 0.010873,
     "end_time": "2023-12-17T20:42:18.063122",
     "exception": false,
     "start_time": "2023-12-17T20:42:18.052249",
     "status": "completed"
    },
    "tags": []
   },
   "outputs": [
    {
     "data": {
      "text/plain": [
       "(4277, 14)"
      ]
     },
     "execution_count": 7,
     "metadata": {},
     "output_type": "execute_result"
    }
   ],
   "source": [
    "test.shape"
   ]
  },
  {
   "cell_type": "code",
   "execution_count": 8,
   "id": "0e96b692-f7c9-4d16-8c9a-3c6aa0a6501c",
   "metadata": {
    "execution": {
     "iopub.execute_input": "2023-12-17T20:42:18.073345Z",
     "iopub.status.busy": "2023-12-17T20:42:18.073095Z",
     "iopub.status.idle": "2023-12-17T20:42:18.091129Z",
     "shell.execute_reply": "2023-12-17T20:42:18.090663Z"
    },
    "papermill": {
     "duration": 0.024965,
     "end_time": "2023-12-17T20:42:18.092350",
     "exception": false,
     "start_time": "2023-12-17T20:42:18.067385",
     "status": "completed"
    },
    "tags": []
   },
   "outputs": [
    {
     "data": {
      "text/html": [
       "<div>\n",
       "<style scoped>\n",
       "    .dataframe tbody tr th:only-of-type {\n",
       "        vertical-align: middle;\n",
       "    }\n",
       "\n",
       "    .dataframe tbody tr th {\n",
       "        vertical-align: top;\n",
       "    }\n",
       "\n",
       "    .dataframe thead th {\n",
       "        text-align: right;\n",
       "    }\n",
       "</style>\n",
       "<table border=\"1\" class=\"dataframe\">\n",
       "  <thead>\n",
       "    <tr style=\"text-align: right;\">\n",
       "      <th></th>\n",
       "      <th>Age</th>\n",
       "      <th>RoomService</th>\n",
       "      <th>FoodCourt</th>\n",
       "      <th>ShoppingMall</th>\n",
       "      <th>Spa</th>\n",
       "      <th>VRDeck</th>\n",
       "    </tr>\n",
       "  </thead>\n",
       "  <tbody>\n",
       "    <tr>\n",
       "      <th>count</th>\n",
       "      <td>8514.000000</td>\n",
       "      <td>8512.000000</td>\n",
       "      <td>8510.000000</td>\n",
       "      <td>8485.000000</td>\n",
       "      <td>8510.000000</td>\n",
       "      <td>8505.000000</td>\n",
       "    </tr>\n",
       "    <tr>\n",
       "      <th>mean</th>\n",
       "      <td>28.827930</td>\n",
       "      <td>224.687617</td>\n",
       "      <td>458.077203</td>\n",
       "      <td>173.729169</td>\n",
       "      <td>311.138778</td>\n",
       "      <td>304.854791</td>\n",
       "    </tr>\n",
       "    <tr>\n",
       "      <th>std</th>\n",
       "      <td>14.489021</td>\n",
       "      <td>666.717663</td>\n",
       "      <td>1611.489240</td>\n",
       "      <td>604.696458</td>\n",
       "      <td>1136.705535</td>\n",
       "      <td>1145.717189</td>\n",
       "    </tr>\n",
       "    <tr>\n",
       "      <th>min</th>\n",
       "      <td>0.000000</td>\n",
       "      <td>0.000000</td>\n",
       "      <td>0.000000</td>\n",
       "      <td>0.000000</td>\n",
       "      <td>0.000000</td>\n",
       "      <td>0.000000</td>\n",
       "    </tr>\n",
       "    <tr>\n",
       "      <th>25%</th>\n",
       "      <td>19.000000</td>\n",
       "      <td>0.000000</td>\n",
       "      <td>0.000000</td>\n",
       "      <td>0.000000</td>\n",
       "      <td>0.000000</td>\n",
       "      <td>0.000000</td>\n",
       "    </tr>\n",
       "    <tr>\n",
       "      <th>50%</th>\n",
       "      <td>27.000000</td>\n",
       "      <td>0.000000</td>\n",
       "      <td>0.000000</td>\n",
       "      <td>0.000000</td>\n",
       "      <td>0.000000</td>\n",
       "      <td>0.000000</td>\n",
       "    </tr>\n",
       "    <tr>\n",
       "      <th>75%</th>\n",
       "      <td>38.000000</td>\n",
       "      <td>47.000000</td>\n",
       "      <td>76.000000</td>\n",
       "      <td>27.000000</td>\n",
       "      <td>59.000000</td>\n",
       "      <td>46.000000</td>\n",
       "    </tr>\n",
       "    <tr>\n",
       "      <th>max</th>\n",
       "      <td>79.000000</td>\n",
       "      <td>14327.000000</td>\n",
       "      <td>29813.000000</td>\n",
       "      <td>23492.000000</td>\n",
       "      <td>22408.000000</td>\n",
       "      <td>24133.000000</td>\n",
       "    </tr>\n",
       "  </tbody>\n",
       "</table>\n",
       "</div>"
      ],
      "text/plain": [
       "               Age   RoomService     FoodCourt  ShoppingMall           Spa  \\\n",
       "count  8514.000000   8512.000000   8510.000000   8485.000000   8510.000000   \n",
       "mean     28.827930    224.687617    458.077203    173.729169    311.138778   \n",
       "std      14.489021    666.717663   1611.489240    604.696458   1136.705535   \n",
       "min       0.000000      0.000000      0.000000      0.000000      0.000000   \n",
       "25%      19.000000      0.000000      0.000000      0.000000      0.000000   \n",
       "50%      27.000000      0.000000      0.000000      0.000000      0.000000   \n",
       "75%      38.000000     47.000000     76.000000     27.000000     59.000000   \n",
       "max      79.000000  14327.000000  29813.000000  23492.000000  22408.000000   \n",
       "\n",
       "             VRDeck  \n",
       "count   8505.000000  \n",
       "mean     304.854791  \n",
       "std     1145.717189  \n",
       "min        0.000000  \n",
       "25%        0.000000  \n",
       "50%        0.000000  \n",
       "75%       46.000000  \n",
       "max    24133.000000  "
      ]
     },
     "execution_count": 8,
     "metadata": {},
     "output_type": "execute_result"
    }
   ],
   "source": [
    "train.describe()"
   ]
  },
  {
   "cell_type": "code",
   "execution_count": 9,
   "id": "8356259d-8fcd-4d98-9667-b346395dff76",
   "metadata": {
    "execution": {
     "iopub.execute_input": "2023-12-17T20:42:18.102851Z",
     "iopub.status.busy": "2023-12-17T20:42:18.102533Z",
     "iopub.status.idle": "2023-12-17T20:42:18.118693Z",
     "shell.execute_reply": "2023-12-17T20:42:18.117979Z"
    },
    "papermill": {
     "duration": 0.023596,
     "end_time": "2023-12-17T20:42:18.120488",
     "exception": false,
     "start_time": "2023-12-17T20:42:18.096892",
     "status": "completed"
    },
    "tags": []
   },
   "outputs": [
    {
     "data": {
      "text/html": [
       "<div>\n",
       "<style scoped>\n",
       "    .dataframe tbody tr th:only-of-type {\n",
       "        vertical-align: middle;\n",
       "    }\n",
       "\n",
       "    .dataframe tbody tr th {\n",
       "        vertical-align: top;\n",
       "    }\n",
       "\n",
       "    .dataframe thead th {\n",
       "        text-align: right;\n",
       "    }\n",
       "</style>\n",
       "<table border=\"1\" class=\"dataframe\">\n",
       "  <thead>\n",
       "    <tr style=\"text-align: right;\">\n",
       "      <th></th>\n",
       "      <th>Age</th>\n",
       "      <th>RoomService</th>\n",
       "      <th>FoodCourt</th>\n",
       "      <th>ShoppingMall</th>\n",
       "      <th>Spa</th>\n",
       "      <th>VRDeck</th>\n",
       "    </tr>\n",
       "  </thead>\n",
       "  <tbody>\n",
       "    <tr>\n",
       "      <th>count</th>\n",
       "      <td>4186.000000</td>\n",
       "      <td>4195.000000</td>\n",
       "      <td>4171.000000</td>\n",
       "      <td>4179.000000</td>\n",
       "      <td>4176.000000</td>\n",
       "      <td>4197.000000</td>\n",
       "    </tr>\n",
       "    <tr>\n",
       "      <th>mean</th>\n",
       "      <td>28.658146</td>\n",
       "      <td>219.266269</td>\n",
       "      <td>439.484296</td>\n",
       "      <td>177.295525</td>\n",
       "      <td>303.052443</td>\n",
       "      <td>310.710031</td>\n",
       "    </tr>\n",
       "    <tr>\n",
       "      <th>std</th>\n",
       "      <td>14.179072</td>\n",
       "      <td>607.011289</td>\n",
       "      <td>1527.663045</td>\n",
       "      <td>560.821123</td>\n",
       "      <td>1117.186015</td>\n",
       "      <td>1246.994742</td>\n",
       "    </tr>\n",
       "    <tr>\n",
       "      <th>min</th>\n",
       "      <td>0.000000</td>\n",
       "      <td>0.000000</td>\n",
       "      <td>0.000000</td>\n",
       "      <td>0.000000</td>\n",
       "      <td>0.000000</td>\n",
       "      <td>0.000000</td>\n",
       "    </tr>\n",
       "    <tr>\n",
       "      <th>25%</th>\n",
       "      <td>19.000000</td>\n",
       "      <td>0.000000</td>\n",
       "      <td>0.000000</td>\n",
       "      <td>0.000000</td>\n",
       "      <td>0.000000</td>\n",
       "      <td>0.000000</td>\n",
       "    </tr>\n",
       "    <tr>\n",
       "      <th>50%</th>\n",
       "      <td>26.000000</td>\n",
       "      <td>0.000000</td>\n",
       "      <td>0.000000</td>\n",
       "      <td>0.000000</td>\n",
       "      <td>0.000000</td>\n",
       "      <td>0.000000</td>\n",
       "    </tr>\n",
       "    <tr>\n",
       "      <th>75%</th>\n",
       "      <td>37.000000</td>\n",
       "      <td>53.000000</td>\n",
       "      <td>78.000000</td>\n",
       "      <td>33.000000</td>\n",
       "      <td>50.000000</td>\n",
       "      <td>36.000000</td>\n",
       "    </tr>\n",
       "    <tr>\n",
       "      <th>max</th>\n",
       "      <td>79.000000</td>\n",
       "      <td>11567.000000</td>\n",
       "      <td>25273.000000</td>\n",
       "      <td>8292.000000</td>\n",
       "      <td>19844.000000</td>\n",
       "      <td>22272.000000</td>\n",
       "    </tr>\n",
       "  </tbody>\n",
       "</table>\n",
       "</div>"
      ],
      "text/plain": [
       "               Age   RoomService     FoodCourt  ShoppingMall           Spa  \\\n",
       "count  4186.000000   4195.000000   4171.000000   4179.000000   4176.000000   \n",
       "mean     28.658146    219.266269    439.484296    177.295525    303.052443   \n",
       "std      14.179072    607.011289   1527.663045    560.821123   1117.186015   \n",
       "min       0.000000      0.000000      0.000000      0.000000      0.000000   \n",
       "25%      19.000000      0.000000      0.000000      0.000000      0.000000   \n",
       "50%      26.000000      0.000000      0.000000      0.000000      0.000000   \n",
       "75%      37.000000     53.000000     78.000000     33.000000     50.000000   \n",
       "max      79.000000  11567.000000  25273.000000   8292.000000  19844.000000   \n",
       "\n",
       "             VRDeck  \n",
       "count   4197.000000  \n",
       "mean     310.710031  \n",
       "std     1246.994742  \n",
       "min        0.000000  \n",
       "25%        0.000000  \n",
       "50%        0.000000  \n",
       "75%       36.000000  \n",
       "max    22272.000000  "
      ]
     },
     "execution_count": 9,
     "metadata": {},
     "output_type": "execute_result"
    }
   ],
   "source": [
    "test.describe()\n",
    "#все числовые параметры визуально нормальные\n",
    "#все могут иметь минимальное значение 0\n",
    "#описательные статистики датасетов сопоставимы"
   ]
  },
  {
   "cell_type": "code",
   "execution_count": 10,
   "id": "715cc857-7441-4454-9151-dcf26a3ec5c0",
   "metadata": {
    "execution": {
     "iopub.execute_input": "2023-12-17T20:42:18.135395Z",
     "iopub.status.busy": "2023-12-17T20:42:18.135126Z",
     "iopub.status.idle": "2023-12-17T20:42:18.160625Z",
     "shell.execute_reply": "2023-12-17T20:42:18.160042Z"
    },
    "papermill": {
     "duration": 0.03476,
     "end_time": "2023-12-17T20:42:18.162136",
     "exception": false,
     "start_time": "2023-12-17T20:42:18.127376",
     "status": "completed"
    },
    "tags": []
   },
   "outputs": [
    {
     "data": {
      "text/html": [
       "<div>\n",
       "<style scoped>\n",
       "    .dataframe tbody tr th:only-of-type {\n",
       "        vertical-align: middle;\n",
       "    }\n",
       "\n",
       "    .dataframe tbody tr th {\n",
       "        vertical-align: top;\n",
       "    }\n",
       "\n",
       "    .dataframe thead th {\n",
       "        text-align: right;\n",
       "    }\n",
       "</style>\n",
       "<table border=\"1\" class=\"dataframe\">\n",
       "  <thead>\n",
       "    <tr style=\"text-align: right;\">\n",
       "      <th></th>\n",
       "      <th>PassengerId</th>\n",
       "      <th>HomePlanet</th>\n",
       "      <th>CryoSleep</th>\n",
       "      <th>Cabin</th>\n",
       "      <th>Destination</th>\n",
       "      <th>VIP</th>\n",
       "      <th>Name</th>\n",
       "    </tr>\n",
       "  </thead>\n",
       "  <tbody>\n",
       "    <tr>\n",
       "      <th>count</th>\n",
       "      <td>8693</td>\n",
       "      <td>8492</td>\n",
       "      <td>8476</td>\n",
       "      <td>8494</td>\n",
       "      <td>8511</td>\n",
       "      <td>8490</td>\n",
       "      <td>8493</td>\n",
       "    </tr>\n",
       "    <tr>\n",
       "      <th>unique</th>\n",
       "      <td>8693</td>\n",
       "      <td>3</td>\n",
       "      <td>2</td>\n",
       "      <td>6560</td>\n",
       "      <td>3</td>\n",
       "      <td>2</td>\n",
       "      <td>8473</td>\n",
       "    </tr>\n",
       "    <tr>\n",
       "      <th>top</th>\n",
       "      <td>9280_02</td>\n",
       "      <td>Earth</td>\n",
       "      <td>False</td>\n",
       "      <td>G/734/S</td>\n",
       "      <td>TRAPPIST-1e</td>\n",
       "      <td>False</td>\n",
       "      <td>Ankalik Nateansive</td>\n",
       "    </tr>\n",
       "    <tr>\n",
       "      <th>freq</th>\n",
       "      <td>1</td>\n",
       "      <td>4602</td>\n",
       "      <td>5439</td>\n",
       "      <td>8</td>\n",
       "      <td>5915</td>\n",
       "      <td>8291</td>\n",
       "      <td>2</td>\n",
       "    </tr>\n",
       "  </tbody>\n",
       "</table>\n",
       "</div>"
      ],
      "text/plain": [
       "       PassengerId HomePlanet CryoSleep    Cabin  Destination    VIP  \\\n",
       "count         8693       8492      8476     8494         8511   8490   \n",
       "unique        8693          3         2     6560            3      2   \n",
       "top        9280_02      Earth     False  G/734/S  TRAPPIST-1e  False   \n",
       "freq             1       4602      5439        8         5915   8291   \n",
       "\n",
       "                      Name  \n",
       "count                 8493  \n",
       "unique                8473  \n",
       "top     Ankalik Nateansive  \n",
       "freq                     2  "
      ]
     },
     "execution_count": 10,
     "metadata": {},
     "output_type": "execute_result"
    }
   ],
   "source": [
    "train.describe(include=['O'])\n",
    "# id все уникальны"
   ]
  },
  {
   "cell_type": "code",
   "execution_count": 11,
   "id": "41f7c0d1-9d34-4390-a160-600cbf668b62",
   "metadata": {
    "execution": {
     "iopub.execute_input": "2023-12-17T20:42:18.180733Z",
     "iopub.status.busy": "2023-12-17T20:42:18.180408Z",
     "iopub.status.idle": "2023-12-17T20:42:18.188197Z",
     "shell.execute_reply": "2023-12-17T20:42:18.187377Z"
    },
    "papermill": {
     "duration": 0.0204,
     "end_time": "2023-12-17T20:42:18.190900",
     "exception": false,
     "start_time": "2023-12-17T20:42:18.170500",
     "status": "completed"
    },
    "tags": []
   },
   "outputs": [],
   "source": [
    "#train.drop(['PassengerId'], axis=1, inplace = True)\n",
    "train.drop(['Name'], axis=1, inplace = True)\n",
    "train.drop(['Cabin'], axis=1, inplace = True)"
   ]
  },
  {
   "cell_type": "code",
   "execution_count": 12,
   "id": "30d1e76c-f866-4f26-9608-256b362f5cdf",
   "metadata": {
    "execution": {
     "iopub.execute_input": "2023-12-17T20:42:18.206678Z",
     "iopub.status.busy": "2023-12-17T20:42:18.206407Z",
     "iopub.status.idle": "2023-12-17T20:42:18.231250Z",
     "shell.execute_reply": "2023-12-17T20:42:18.230091Z"
    },
    "papermill": {
     "duration": 0.034885,
     "end_time": "2023-12-17T20:42:18.233976",
     "exception": false,
     "start_time": "2023-12-17T20:42:18.199091",
     "status": "completed"
    },
    "tags": []
   },
   "outputs": [
    {
     "data": {
      "text/html": [
       "<div>\n",
       "<style scoped>\n",
       "    .dataframe tbody tr th:only-of-type {\n",
       "        vertical-align: middle;\n",
       "    }\n",
       "\n",
       "    .dataframe tbody tr th {\n",
       "        vertical-align: top;\n",
       "    }\n",
       "\n",
       "    .dataframe thead th {\n",
       "        text-align: right;\n",
       "    }\n",
       "</style>\n",
       "<table border=\"1\" class=\"dataframe\">\n",
       "  <thead>\n",
       "    <tr style=\"text-align: right;\">\n",
       "      <th></th>\n",
       "      <th>PassengerId</th>\n",
       "      <th>HomePlanet</th>\n",
       "      <th>CryoSleep</th>\n",
       "      <th>Cabin</th>\n",
       "      <th>Destination</th>\n",
       "      <th>VIP</th>\n",
       "      <th>Name</th>\n",
       "    </tr>\n",
       "  </thead>\n",
       "  <tbody>\n",
       "    <tr>\n",
       "      <th>count</th>\n",
       "      <td>4277</td>\n",
       "      <td>4190</td>\n",
       "      <td>4184</td>\n",
       "      <td>4177</td>\n",
       "      <td>4185</td>\n",
       "      <td>4184</td>\n",
       "      <td>4183</td>\n",
       "    </tr>\n",
       "    <tr>\n",
       "      <th>unique</th>\n",
       "      <td>4277</td>\n",
       "      <td>3</td>\n",
       "      <td>2</td>\n",
       "      <td>3265</td>\n",
       "      <td>3</td>\n",
       "      <td>2</td>\n",
       "      <td>4176</td>\n",
       "    </tr>\n",
       "    <tr>\n",
       "      <th>top</th>\n",
       "      <td>9277_01</td>\n",
       "      <td>Earth</td>\n",
       "      <td>False</td>\n",
       "      <td>G/160/P</td>\n",
       "      <td>TRAPPIST-1e</td>\n",
       "      <td>False</td>\n",
       "      <td>Cints Erle</td>\n",
       "    </tr>\n",
       "    <tr>\n",
       "      <th>freq</th>\n",
       "      <td>1</td>\n",
       "      <td>2263</td>\n",
       "      <td>2640</td>\n",
       "      <td>8</td>\n",
       "      <td>2956</td>\n",
       "      <td>4110</td>\n",
       "      <td>2</td>\n",
       "    </tr>\n",
       "  </tbody>\n",
       "</table>\n",
       "</div>"
      ],
      "text/plain": [
       "       PassengerId HomePlanet CryoSleep    Cabin  Destination    VIP  \\\n",
       "count         4277       4190      4184     4177         4185   4184   \n",
       "unique        4277          3         2     3265            3      2   \n",
       "top        9277_01      Earth     False  G/160/P  TRAPPIST-1e  False   \n",
       "freq             1       2263      2640        8         2956   4110   \n",
       "\n",
       "              Name  \n",
       "count         4183  \n",
       "unique        4176  \n",
       "top     Cints Erle  \n",
       "freq             2  "
      ]
     },
     "execution_count": 12,
     "metadata": {},
     "output_type": "execute_result"
    }
   ],
   "source": [
    "test.describe(include=['O'])"
   ]
  },
  {
   "cell_type": "code",
   "execution_count": 13,
   "id": "e7617b2e-9059-40d9-8a72-4f419df914fd",
   "metadata": {
    "execution": {
     "iopub.execute_input": "2023-12-17T20:42:18.255741Z",
     "iopub.status.busy": "2023-12-17T20:42:18.255242Z",
     "iopub.status.idle": "2023-12-17T20:42:18.262870Z",
     "shell.execute_reply": "2023-12-17T20:42:18.261733Z"
    },
    "papermill": {
     "duration": 0.019529,
     "end_time": "2023-12-17T20:42:18.264978",
     "exception": false,
     "start_time": "2023-12-17T20:42:18.245449",
     "status": "completed"
    },
    "tags": []
   },
   "outputs": [],
   "source": [
    "#test.drop(['PassengerId'], axis=1, inplace=True)   \n",
    "test.drop(['Name'], axis=1, inplace=True)\n",
    "test.drop(['Cabin'], axis=1, inplace=True)"
   ]
  },
  {
   "cell_type": "code",
   "execution_count": 14,
   "id": "c1afbea3-c171-478e-85b4-1378222d394b",
   "metadata": {
    "execution": {
     "iopub.execute_input": "2023-12-17T20:42:18.279021Z",
     "iopub.status.busy": "2023-12-17T20:42:18.278617Z",
     "iopub.status.idle": "2023-12-17T20:42:18.290443Z",
     "shell.execute_reply": "2023-12-17T20:42:18.289824Z"
    },
    "papermill": {
     "duration": 0.020242,
     "end_time": "2023-12-17T20:42:18.291951",
     "exception": false,
     "start_time": "2023-12-17T20:42:18.271709",
     "status": "completed"
    },
    "tags": []
   },
   "outputs": [
    {
     "name": "stdout",
     "output_type": "stream",
     "text": [
      "<class 'pandas.core.frame.DataFrame'>\n",
      "RangeIndex: 8693 entries, 0 to 8692\n",
      "Data columns (total 12 columns):\n",
      " #   Column        Non-Null Count  Dtype  \n",
      "---  ------        --------------  -----  \n",
      " 0   PassengerId   8693 non-null   object \n",
      " 1   HomePlanet    8492 non-null   object \n",
      " 2   CryoSleep     8476 non-null   object \n",
      " 3   Destination   8511 non-null   object \n",
      " 4   Age           8514 non-null   float64\n",
      " 5   VIP           8490 non-null   object \n",
      " 6   RoomService   8512 non-null   float64\n",
      " 7   FoodCourt     8510 non-null   float64\n",
      " 8   ShoppingMall  8485 non-null   float64\n",
      " 9   Spa           8510 non-null   float64\n",
      " 10  VRDeck        8505 non-null   float64\n",
      " 11  Transported   8693 non-null   bool   \n",
      "dtypes: bool(1), float64(6), object(5)\n",
      "memory usage: 755.7+ KB\n"
     ]
    }
   ],
   "source": [
    "train.info()"
   ]
  },
  {
   "cell_type": "code",
   "execution_count": 15,
   "id": "357fe4f8-951c-4937-9b97-929c7dbeef0b",
   "metadata": {
    "execution": {
     "iopub.execute_input": "2023-12-17T20:42:18.304961Z",
     "iopub.status.busy": "2023-12-17T20:42:18.304718Z",
     "iopub.status.idle": "2023-12-17T20:42:18.311583Z",
     "shell.execute_reply": "2023-12-17T20:42:18.311006Z"
    },
    "papermill": {
     "duration": 0.014584,
     "end_time": "2023-12-17T20:42:18.313213",
     "exception": false,
     "start_time": "2023-12-17T20:42:18.298629",
     "status": "completed"
    },
    "tags": []
   },
   "outputs": [
    {
     "data": {
      "text/plain": [
       "PassengerId       0\n",
       "HomePlanet      201\n",
       "CryoSleep       217\n",
       "Destination     182\n",
       "Age             179\n",
       "VIP             203\n",
       "RoomService     181\n",
       "FoodCourt       183\n",
       "ShoppingMall    208\n",
       "Spa             183\n",
       "VRDeck          188\n",
       "Transported       0\n",
       "dtype: int64"
      ]
     },
     "execution_count": 15,
     "metadata": {},
     "output_type": "execute_result"
    }
   ],
   "source": [
    "train.isnull().sum()\n",
    "#для многих параметров есть отсутствующие ячейки"
   ]
  },
  {
   "cell_type": "code",
   "execution_count": 16,
   "id": "fe820751-2102-4255-8353-2480b5d911d7",
   "metadata": {
    "execution": {
     "iopub.execute_input": "2023-12-17T20:42:18.324921Z",
     "iopub.status.busy": "2023-12-17T20:42:18.324589Z",
     "iopub.status.idle": "2023-12-17T20:42:18.333894Z",
     "shell.execute_reply": "2023-12-17T20:42:18.333224Z"
    },
    "papermill": {
     "duration": 0.016689,
     "end_time": "2023-12-17T20:42:18.335216",
     "exception": false,
     "start_time": "2023-12-17T20:42:18.318527",
     "status": "completed"
    },
    "tags": []
   },
   "outputs": [
    {
     "name": "stdout",
     "output_type": "stream",
     "text": [
      "<class 'pandas.core.frame.DataFrame'>\n",
      "RangeIndex: 4277 entries, 0 to 4276\n",
      "Data columns (total 12 columns):\n",
      " #   Column        Non-Null Count  Dtype  \n",
      "---  ------        --------------  -----  \n",
      " 0   PassengerId   4277 non-null   object \n",
      " 1   HomePlanet    4190 non-null   object \n",
      " 2   CryoSleep     4184 non-null   object \n",
      " 3   Destination   4185 non-null   object \n",
      " 4   Age           4186 non-null   float64\n",
      " 5   VIP           4184 non-null   object \n",
      " 6   RoomService   4195 non-null   float64\n",
      " 7   FoodCourt     4171 non-null   float64\n",
      " 8   ShoppingMall  4179 non-null   float64\n",
      " 9   Spa           4176 non-null   float64\n",
      " 10  VRDeck        4197 non-null   float64\n",
      " 11  Transported   4277 non-null   bool   \n",
      "dtypes: bool(1), float64(6), object(5)\n",
      "memory usage: 371.9+ KB\n"
     ]
    }
   ],
   "source": [
    "test.info()"
   ]
  },
  {
   "cell_type": "code",
   "execution_count": 17,
   "id": "21ab0be4-b738-4d1c-844b-1144df30d070",
   "metadata": {
    "execution": {
     "iopub.execute_input": "2023-12-17T20:42:18.348485Z",
     "iopub.status.busy": "2023-12-17T20:42:18.348166Z",
     "iopub.status.idle": "2023-12-17T20:42:18.355187Z",
     "shell.execute_reply": "2023-12-17T20:42:18.354439Z"
    },
    "papermill": {
     "duration": 0.015792,
     "end_time": "2023-12-17T20:42:18.356615",
     "exception": false,
     "start_time": "2023-12-17T20:42:18.340823",
     "status": "completed"
    },
    "tags": []
   },
   "outputs": [
    {
     "data": {
      "text/plain": [
       "PassengerId       0\n",
       "HomePlanet       87\n",
       "CryoSleep        93\n",
       "Destination      92\n",
       "Age              91\n",
       "VIP              93\n",
       "RoomService      82\n",
       "FoodCourt       106\n",
       "ShoppingMall     98\n",
       "Spa             101\n",
       "VRDeck           80\n",
       "Transported       0\n",
       "dtype: int64"
      ]
     },
     "execution_count": 17,
     "metadata": {},
     "output_type": "execute_result"
    }
   ],
   "source": [
    "test.isnull().sum()\n",
    "#для многих параметров есть отсутствующие ячейки"
   ]
  },
  {
   "cell_type": "code",
   "execution_count": 18,
   "id": "d21e55ae-98b3-4a60-9f95-91f65074abe1",
   "metadata": {
    "execution": {
     "iopub.execute_input": "2023-12-17T20:42:18.368656Z",
     "iopub.status.busy": "2023-12-17T20:42:18.368377Z",
     "iopub.status.idle": "2023-12-17T20:42:18.375864Z",
     "shell.execute_reply": "2023-12-17T20:42:18.375339Z"
    },
    "papermill": {
     "duration": 0.015339,
     "end_time": "2023-12-17T20:42:18.377409",
     "exception": false,
     "start_time": "2023-12-17T20:42:18.362070",
     "status": "completed"
    },
    "tags": []
   },
   "outputs": [],
   "source": [
    "#удаление строк с пустыми ячейками\n",
    "train = train.dropna() \n",
    "test = test.dropna() "
   ]
  },
  {
   "cell_type": "code",
   "execution_count": 19,
   "id": "1abb3f82-10fb-4c61-afcf-c827f733ac53",
   "metadata": {
    "execution": {
     "iopub.execute_input": "2023-12-17T20:42:18.389580Z",
     "iopub.status.busy": "2023-12-17T20:42:18.389327Z",
     "iopub.status.idle": "2023-12-17T20:42:18.393794Z",
     "shell.execute_reply": "2023-12-17T20:42:18.393157Z"
    },
    "papermill": {
     "duration": 0.012297,
     "end_time": "2023-12-17T20:42:18.395153",
     "exception": false,
     "start_time": "2023-12-17T20:42:18.382856",
     "status": "completed"
    },
    "tags": []
   },
   "outputs": [
    {
     "data": {
      "text/plain": [
       "(6923, 12)"
      ]
     },
     "execution_count": 19,
     "metadata": {},
     "output_type": "execute_result"
    }
   ],
   "source": [
    "train.shape"
   ]
  },
  {
   "cell_type": "code",
   "execution_count": 20,
   "id": "d7bb98cd-2453-4e0d-bcb2-fa38ab29321b",
   "metadata": {
    "execution": {
     "iopub.execute_input": "2023-12-17T20:42:18.408015Z",
     "iopub.status.busy": "2023-12-17T20:42:18.407645Z",
     "iopub.status.idle": "2023-12-17T20:42:18.412511Z",
     "shell.execute_reply": "2023-12-17T20:42:18.411668Z"
    },
    "papermill": {
     "duration": 0.013303,
     "end_time": "2023-12-17T20:42:18.414314",
     "exception": false,
     "start_time": "2023-12-17T20:42:18.401011",
     "status": "completed"
    },
    "tags": []
   },
   "outputs": [
    {
     "data": {
      "text/plain": [
       "(3438, 12)"
      ]
     },
     "execution_count": 20,
     "metadata": {},
     "output_type": "execute_result"
    }
   ],
   "source": [
    "test.shape"
   ]
  },
  {
   "cell_type": "code",
   "execution_count": 21,
   "id": "52be0121-e78a-4c42-aca5-94db40808e91",
   "metadata": {
    "execution": {
     "iopub.execute_input": "2023-12-17T20:42:18.426767Z",
     "iopub.status.busy": "2023-12-17T20:42:18.426513Z",
     "iopub.status.idle": "2023-12-17T20:42:18.435005Z",
     "shell.execute_reply": "2023-12-17T20:42:18.434345Z"
    },
    "papermill": {
     "duration": 0.016573,
     "end_time": "2023-12-17T20:42:18.436272",
     "exception": false,
     "start_time": "2023-12-17T20:42:18.419699",
     "status": "completed"
    },
    "tags": []
   },
   "outputs": [],
   "source": [
    "train.loc[train['HomePlanet'] == 'Europa', 'HomePlanet'] = 0\n",
    "train.loc[train['HomePlanet'] == 'Earth', 'HomePlanet'] = 1\n",
    "train.loc[train['HomePlanet'] == 'Mars', 'HomePlanet'] = 2\n",
    "\n",
    "test.loc[test['HomePlanet'] == 'Europa', 'HomePlanet'] = 0\n",
    "test.loc[test['HomePlanet'] == 'Earth', 'HomePlanet'] = 1\n",
    "test.loc[test['HomePlanet'] == 'Mars', 'HomePlanet'] = 2"
   ]
  },
  {
   "cell_type": "code",
   "execution_count": 22,
   "id": "1fec5bb9-7189-4dc0-b407-c0f5098d4c75",
   "metadata": {
    "execution": {
     "iopub.execute_input": "2023-12-17T20:42:18.448921Z",
     "iopub.status.busy": "2023-12-17T20:42:18.448658Z",
     "iopub.status.idle": "2023-12-17T20:42:18.457604Z",
     "shell.execute_reply": "2023-12-17T20:42:18.456999Z"
    },
    "papermill": {
     "duration": 0.017036,
     "end_time": "2023-12-17T20:42:18.458778",
     "exception": false,
     "start_time": "2023-12-17T20:42:18.441742",
     "status": "completed"
    },
    "tags": []
   },
   "outputs": [],
   "source": [
    "train.loc[train['Destination'] == 'TRAPPIST-1e', 'Destination'] = 0\n",
    "train.loc[train['Destination'] == 'PSO J318.5-22', 'Destination'] = 1\n",
    "train.loc[train['Destination'] == '55 Cancri e', 'Destination'] = 2\n",
    "\n",
    "test.loc[test['Destination'] == 'TRAPPIST-1e', 'Destination'] = 0\n",
    "test.loc[test['Destination'] == 'PSO J318.5-22', 'Destination'] = 1\n",
    "test.loc[test['Destination'] == '55 Cancri e', 'Destination'] = 2"
   ]
  },
  {
   "cell_type": "code",
   "execution_count": 23,
   "id": "911ccbc7-d33f-47ec-a6c6-8676d0ee9213",
   "metadata": {
    "execution": {
     "iopub.execute_input": "2023-12-17T20:42:18.472474Z",
     "iopub.status.busy": "2023-12-17T20:42:18.472221Z",
     "iopub.status.idle": "2023-12-17T20:42:18.481185Z",
     "shell.execute_reply": "2023-12-17T20:42:18.480280Z"
    },
    "papermill": {
     "duration": 0.017568,
     "end_time": "2023-12-17T20:42:18.482737",
     "exception": false,
     "start_time": "2023-12-17T20:42:18.465169",
     "status": "completed"
    },
    "tags": []
   },
   "outputs": [],
   "source": [
    "test[['PassengerId', 'Transported']].to_csv('sample_submission1.csv')"
   ]
  },
  {
   "cell_type": "code",
   "execution_count": 24,
   "id": "2568855a-5a70-4a24-950e-63e9cd9e8581",
   "metadata": {
    "execution": {
     "iopub.execute_input": "2023-12-17T20:42:18.494835Z",
     "iopub.status.busy": "2023-12-17T20:42:18.494544Z",
     "iopub.status.idle": "2023-12-17T20:42:18.498868Z",
     "shell.execute_reply": "2023-12-17T20:42:18.498357Z"
    },
    "papermill": {
     "duration": 0.012076,
     "end_time": "2023-12-17T20:42:18.500288",
     "exception": false,
     "start_time": "2023-12-17T20:42:18.488212",
     "status": "completed"
    },
    "tags": []
   },
   "outputs": [],
   "source": [
    "test.drop(['Transported'], axis=1, inplace=True)"
   ]
  },
  {
   "cell_type": "code",
   "execution_count": 25,
   "id": "410223d6-fa4c-4bf2-8082-7a80d2e81b74",
   "metadata": {
    "execution": {
     "iopub.execute_input": "2023-12-17T20:42:18.512332Z",
     "iopub.status.busy": "2023-12-17T20:42:18.512014Z",
     "iopub.status.idle": "2023-12-17T20:42:18.560399Z",
     "shell.execute_reply": "2023-12-17T20:42:18.559830Z"
    },
    "papermill": {
     "duration": 0.05681,
     "end_time": "2023-12-17T20:42:18.562364",
     "exception": false,
     "start_time": "2023-12-17T20:42:18.505554",
     "status": "completed"
    },
    "tags": []
   },
   "outputs": [],
   "source": [
    "train.to_csv('./train1.csv')\n",
    "test.to_csv('./test1.csv')"
   ]
  },
  {
   "cell_type": "code",
   "execution_count": 26,
   "id": "a3933894-a748-4900-b7df-70353183fffd",
   "metadata": {
    "execution": {
     "iopub.execute_input": "2023-12-17T20:42:18.578503Z",
     "iopub.status.busy": "2023-12-17T20:42:18.577591Z",
     "iopub.status.idle": "2023-12-17T20:42:18.585581Z",
     "shell.execute_reply": "2023-12-17T20:42:18.584667Z"
    },
    "papermill": {
     "duration": 0.020334,
     "end_time": "2023-12-17T20:42:18.588147",
     "exception": false,
     "start_time": "2023-12-17T20:42:18.567813",
     "status": "completed"
    },
    "tags": []
   },
   "outputs": [],
   "source": [
    "models = pd.DataFrame([['model', 'train', 'test']])\n",
    "models.to_csv('./models.csv', index=False)"
   ]
  },
  {
   "cell_type": "code",
   "execution_count": null,
   "id": "450e239f-2e3f-436c-bbed-79e88aed4f85",
   "metadata": {
    "papermill": {
     "duration": 0.009697,
     "end_time": "2023-12-17T20:42:18.609763",
     "exception": false,
     "start_time": "2023-12-17T20:42:18.600066",
     "status": "completed"
    },
    "tags": []
   },
   "outputs": [],
   "source": []
  },
  {
   "cell_type": "code",
   "execution_count": null,
   "id": "480f3e3c-d2b6-4dc1-aaed-ae0dc7bc9a0c",
   "metadata": {
    "papermill": {
     "duration": 0.006881,
     "end_time": "2023-12-17T20:42:18.625013",
     "exception": false,
     "start_time": "2023-12-17T20:42:18.618132",
     "status": "completed"
    },
    "tags": []
   },
   "outputs": [],
   "source": []
  }
 ],
 "metadata": {
  "kernelspec": {
   "display_name": "Python 3 (ipykernel)",
   "language": "python",
   "name": "python3"
  },
  "language_info": {
   "codemirror_mode": {
    "name": "ipython",
    "version": 3
   },
   "file_extension": ".py",
   "mimetype": "text/x-python",
   "name": "python",
   "nbconvert_exporter": "python",
   "pygments_lexer": "ipython3",
   "version": "3.9.12"
  },
  "papermill": {
   "default_parameters": {},
   "duration": 2.261621,
   "end_time": "2023-12-17T20:42:18.850212",
   "environment_variables": {},
   "exception": null,
   "input_path": "/home/alena/Рабочий стол/Уник/наука о данных/задание 2/preprocessing.ipynb",
   "output_path": "/home/alena/Рабочий стол/Уник/наука о данных/задание 2/preprocessing.ipynb",
   "parameters": {},
   "start_time": "2023-12-17T20:42:16.588591",
   "version": "2.5.0"
  }
 },
 "nbformat": 4,
 "nbformat_minor": 5
}